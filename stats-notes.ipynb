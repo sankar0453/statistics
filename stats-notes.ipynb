{
 "cells": [
  {
   "cell_type": "markdown",
   "metadata": {},
   "source": [
    "### statistics"
   ]
  },
  {
   "cell_type": "markdown",
   "metadata": {},
   "source": [
    "#### https://www.qualitygurus.com/pdf-cdf-and-pmf-probability-distribution-functions/"
   ]
  },
  {
   "cell_type": "markdown",
   "metadata": {},
   "source": [
    "Probability density function (PDF):\n",
    "The PDF is a function that describes the probability of a continuous random variable taking on a certain value. It is a mathematical function that describes the probability that a random variable will fall within a certain range of values.\n",
    "\n",
    "Cumulative distribution function (CDF):\n",
    "The CDF is a function that describes the probability that a random variable (continuous or discrete) will take on a value less than or equal to a certain value. It is a mathematical function that describes the probability that a random variable will fall within a certain range of values, up to and including a specific value.\n",
    "\n",
    "Probability mass function (PMF):\n",
    "The PMF is a function that describes the probability of a discrete random variable taking on a certain value. It is a mathematical function that describes the probability that a random variable will take on a specific value rather than falling within a range of values.\n",
    "\n",
    "Summary:\n",
    "In summary, PDFs are used to describe the probability of a continuous random variable taking on a certain value, CDFs are used to describe the probability that a random variable (continuous or discrete) will take on a value less than or equal to a certain value, and PMFs are used to describe the probability of a discrete random variable taking on a certain value.\n",
    "\n",
    "\n"
   ]
  },
  {
   "cell_type": "markdown",
   "metadata": {},
   "source": []
  },
  {
   "cell_type": "markdown",
   "metadata": {},
   "source": []
  },
  {
   "cell_type": "markdown",
   "metadata": {},
   "source": []
  },
  {
   "cell_type": "markdown",
   "metadata": {},
   "source": []
  },
  {
   "cell_type": "markdown",
   "metadata": {},
   "source": []
  }
 ],
 "metadata": {
  "kernelspec": {
   "display_name": "Python 3",
   "language": "python",
   "name": "python3"
  },
  "language_info": {
   "codemirror_mode": {
    "name": "ipython",
    "version": 3
   },
   "file_extension": ".py",
   "mimetype": "text/x-python",
   "name": "python",
   "nbconvert_exporter": "python",
   "pygments_lexer": "ipython3",
   "version": "3.9.0"
  },
  "orig_nbformat": 4
 },
 "nbformat": 4,
 "nbformat_minor": 2
}
