{
 "cells": [
  {
   "cell_type": "code",
   "execution_count": null,
   "metadata": {},
   "outputs": [],
   "source": [
    "# Probabilty distributions"
   ]
  },
  {
   "cell_type": "markdown",
   "metadata": {},
   "source": [
    "##### https://www.youtube.com/playlist?list=PL5JMSasVeFoBhkbg2tPQG0B4q673GatyL"
   ]
  },
  {
   "cell_type": "markdown",
   "metadata": {},
   "source": [
    "What is proabability?\n",
    "\n",
    "WHat is distribution?\n",
    "What is Probability distribution function?\n"
   ]
  },
  {
   "cell_type": "markdown",
   "metadata": {},
   "source": [
    "What is proabability?\n",
    "Probability is a measure of how likely or probable an event is to occur. It quantifies the uncertainty or randomness in various situations. In simpler terms, it's a way of expressing the chances of something happening."
   ]
  },
  {
   "cell_type": "markdown",
   "metadata": {},
   "source": [
    "Probability Distribution Function (PDF):\n",
    "\n",
    "A Probability Distribution Function (PDF) is a mathematical function or formula that tells you the probability of getting a specific outcome when dealing with random events or data. It's like a rulebook that assigns probabilities to different possible results.\n",
    "\n",
    "Key Points:\n",
    "\n",
    "Continuous vs. Discrete Distributions:\n",
    "\n",
    "PDFs can describe both continuous and discrete random variables.\n",
    "For continuous variables (like measuring heights), the PDF is called a Probability Density Function (PDF). It shows the probability of a value falling within a certain range.\n",
    "For discrete variables (like counting the number of heads in coin flips), the PDF is called a Probability Mass Function (PMF). It gives the probability of each possible outcome.\n",
    "Example - Rolling a Die:\n",
    "\n",
    "Let's consider a simple example with a fair six-sided die:\n",
    "\n",
    "For a discrete PDF (PMF), it would assign a 1/6 probability to each face (1, 2, 3, 4, 5, and 6) because each face has an equal chance of landing when you roll the die.\n",
    "\n",
    "For a continuous PDF (PDF), it could be used to describe the distribution of possible heights of people in a population. The PDF might tell you that the probability of someone being exactly 175 centimeters tall is very low, but the probability of them being in the range of 170-180 centimeters is higher.\n",
    "\n",
    "Sum or Integral Equals 1:\n",
    "\n",
    "In both cases (discrete or continuous), the sum of all probabilities or the integral over all possible values should equal 1. This means that, collectively, all possible outcomes must cover 100% of the probability.\n",
    "Use in Statistics:\n",
    "\n",
    "PDFs are fundamental in statistics for describing and understanding data distributions.\n",
    "They're used for making predictions, conducting statistical tests, and making decisions based on data.\n",
    "In a nutshell, a Probability Distribution Function (PDF) helps us understand how likely different outcomes are in random events or data sets. It's like a guide that quantifies the chances of getting specific results, whether you're rolling dice, measuring heights, or analyzing data in various fields"
   ]
  }
 ],
 "metadata": {
  "language_info": {
   "name": "python"
  },
  "orig_nbformat": 4
 },
 "nbformat": 4,
 "nbformat_minor": 2
}
